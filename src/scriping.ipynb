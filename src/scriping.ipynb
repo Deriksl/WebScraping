{
 "cells": [
  {
   "cell_type": "code",
   "execution_count": 5,
   "metadata": {},
   "outputs": [],
   "source": [
    "from dotenv import load_dotenv\n",
    "import os\n",
    "from selenium import webdriver\n",
    "from selenium.webdriver.common.by import By\n",
    "from selenium.webdriver.chrome.service import Service\n",
    "import time\n",
    "import ssl\n",
    "import pandas as pd"
   ]
  },
  {
   "cell_type": "code",
   "execution_count": 6,
   "metadata": {},
   "outputs": [],
   "source": [
    "\n",
    "# Cargar las variables del archivo .env\n",
    "load_dotenv()\n",
    "FACEBOOK_USER = os.getenv(\"FACEBOOK_USER\")\n",
    "FACEBOOK_PASSWORD = os.getenv(\"FACEBOOK_PASSWORD\")"
   ]
  },
  {
   "cell_type": "code",
   "execution_count": 7,
   "metadata": {},
   "outputs": [],
   "source": [
    "# Configurar el servicio de ChromeDriver\n",
    "service = Service(\"C:\\\\Users\\\\tendo\\\\OneDrive\\\\Desktop\\\\chromedriver.exe\")\n",
    "options = webdriver.ChromeOptions()\n",
    "driver = webdriver.Chrome(service=service, options=options)\n",
    "\n",
    "driver.maximize_window()\n",
    "driver.get(\"https://www.facebook.com/login/\")\n",
    "\n",
    "ssl._create_default_https_context = ssl._create_unverified_context\n",
    "time.sleep(3)\n"
   ]
  },
  {
   "cell_type": "code",
   "execution_count": 8,
   "metadata": {},
   "outputs": [],
   "source": [
    "# Iniciar sesión\n",
    "username = driver.find_element(By.CSS_SELECTOR, \"input[name='email']\")\n",
    "password = driver.find_element(By.CSS_SELECTOR, \"input[name='pass']\")\n",
    "username.clear()\n",
    "password.clear()\n",
    "username.send_keys(FACEBOOK_USER)\n",
    "password.send_keys(FACEBOOK_PASSWORD)\n",
    "driver.find_element(By.CSS_SELECTOR, \"button[type='submit']\").click()\n",
    "time.sleep(6)\n"
   ]
  },
  {
   "cell_type": "code",
   "execution_count": 47,
   "metadata": {},
   "outputs": [],
   "source": [
    "# Navegar a la sección de carros en Facebook Marketplace\n",
    "driver.get(\"https://www.facebook.com/marketplace/monterrey/search/?query=carros&exact=false\")\n",
    "time.sleep(5)\n"
   ]
  },
  {
   "cell_type": "code",
   "execution_count": 51,
   "metadata": {},
   "outputs": [],
   "source": [
    "# Extracción de datos de los anuncios de carros\n",
    "resultados = []\n",
    "\n",
    "\n",
    "anuncios = driver.find_elements(By.XPATH, \"//div[contains(@class, 'x9f619 x78zum5 xdt5ytf x1qughib x1rdy4ex xz9dl7a xsag5q8 xh8yej3 xp0eagm x1nrcals')]/div\")\n",
    "\n",
    "# for ele in anuncios:\n",
    "#     print(ele.text)\n",
    "\n",
    "\n",
    "\n",
    "\n"
   ]
  },
  {
   "cell_type": "code",
   "execution_count": 52,
   "metadata": {},
   "outputs": [],
   "source": [
    "# Recorrer cada anuncio\n",
    "for anuncio in anuncios:\n",
    "    try:\n",
    "        # Extraer el título del anuncio\n",
    "        titulo = anuncio.find_element(By.XPATH, \".//span[contains(@class, 'x1lliihq x6ikm8r x10wlt62 x1n2onr6')]\").text\n",
    "        \n",
    "        # Extraer el precio desde el 'span' con clase específica y dir=\"auto\"\n",
    "        precio = anuncio.find_element(By.XPATH, \".//span[contains(@class, 'x193iq5w xeuugli x13faqbe x1vvkbs x1xmvt09 x1lliihq x1s928wv xhkezso x1gmr53x x1cpjm7i x1fgarty x1943h6x xudqn12 x676frb x1lkfr7t x1lbecb7 x1s688f xzsf02u') and @dir='auto']\").text\n",
    "        \n",
    "        # Extraer la ciudad (ubicación del anuncio)\n",
    "        ciudad = anuncio.find_element(By.XPATH, \".//span[contains(@class, 'x1lliihq x6ikm8r x10wlt62 x1n2onr6 xlyipyv xuxw1ft x1j85h84')]\").text\n",
    "        \n",
    "        # Extraer el kilometraje del carro\n",
    "        kilometraje = anuncio.find_element(By.XPATH, \".//span[contains(@class, 'x1lliihq x6ikm8r x10wlt62 x1n2onr6 xlyipyv xuxw1ft x1j85h84')]\").text\n",
    "\n",
    "        # Añadir los datos extraídos a la lista de resultados\n",
    "        resultados.append({\n",
    "            \"Título\": titulo,\n",
    "            \"Precio\": precio,\n",
    "            \"Ciudad\": ciudad,\n",
    "            \"Kilometraje\": kilometraje\n",
    "        })\n",
    "\n",
    "    except Exception as e:\n",
    "        # print(f\"Error en un anuncio: {e}\")\n",
    "        continue\n",
    "#     titulo\n",
    "#         <span class=\"x1lliihq x6ikm8r x10wlt62 x1n2onr6\" style=\"-webkit-box-orient:vertical;-webkit-line-clamp:2;display:-webkit-box\">2009 Volkswagen beetle</span>\n",
    "        \n",
    "#     precio\n",
    "#     <span class=\"x193iq5w xeuugli x13faqbe x1vvkbs x1xmvt09 x1lliihq x1s928wv xhkezso x1gmr53x x1cpjm7i x1fgarty x1943h6x xudqn12 x676frb x1lkfr7t x1lbecb7 x1s688f xzsf02u\" dir=\"auto\">\n",
    "    \n",
    "# ciudad\n",
    "#     <span class=\"x1lliihq x6ikm8r x10wlt62 x1n2onr6 xlyipyv xuxw1ft x1j85h84\">Corregidora, Qro</span>\n",
    "    \n",
    "# kilometraje\n",
    "#     <span class=\"x1lliihq x6ikm8r x10wlt62 x1n2onr6 xlyipyv xuxw1ft x1j85h84\">142&nbsp;mil km</span>\n",
    "    \n",
    "    \n",
    "    \n",
    "        "
   ]
  },
  {
   "cell_type": "code",
   "execution_count": 11,
   "metadata": {},
   "outputs": [
    {
     "name": "stdout",
     "output_type": "stream",
     "text": [
      "Datos guardados en anuncios_carros.xlsx\n"
     ]
    }
   ],
   "source": [
    "# Convertir los resultados a un DataFrame de pandas y guardarlos en un archivo Excel\n",
    "df = pd.DataFrame(resultados)\n",
    "df.to_excel(\"facebook_carros_real.xlsx\", index=False)\n",
    "\n",
    "print(\"Datos guardados en anuncios_carros.xlsx\")"
   ]
  },
  {
   "cell_type": "code",
   "execution_count": 53,
   "metadata": {},
   "outputs": [],
   "source": [
    "# Cerrar el navegador\n",
    "driver.quit()"
   ]
  },
  {
   "cell_type": "code",
   "execution_count": null,
   "metadata": {},
   "outputs": [],
   "source": []
  },
  {
   "cell_type": "code",
   "execution_count": null,
   "metadata": {},
   "outputs": [],
   "source": []
  }
 ],
 "metadata": {
  "kernelspec": {
   "display_name": "Python 3",
   "language": "python",
   "name": "python3"
  },
  "language_info": {
   "codemirror_mode": {
    "name": "ipython",
    "version": 3
   },
   "file_extension": ".py",
   "mimetype": "text/x-python",
   "name": "python",
   "nbconvert_exporter": "python",
   "pygments_lexer": "ipython3",
   "version": "3.11.9"
  }
 },
 "nbformat": 4,
 "nbformat_minor": 2
}
